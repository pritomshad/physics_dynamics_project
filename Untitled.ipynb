{
 "cells": [
  {
   "cell_type": "code",
   "execution_count": 6,
   "id": "b9221058-4f76-4465-bc7a-252f6a23ec88",
   "metadata": {},
   "outputs": [],
   "source": [
    "import math\n",
    "import turtle"
   ]
  },
  {
   "cell_type": "code",
   "execution_count": 18,
   "id": "25d18ea2-c4c6-4628-ad5a-536f0d2525d5",
   "metadata": {},
   "outputs": [],
   "source": [
    "#lets work with 3d space\n",
    "class vector:\n",
    "    def __init__(self,x,y,z):\n",
    "        self.x = x\n",
    "        self.y = y\n",
    "        self.z = z\n",
    "    def scaler_length(self):\n",
    "        return math.sqrt((self.x*self.x)+(self.y*self.y)+(self.z*self.z))\n",
    "    def print_vector(self):\n",
    "        print(self.x,\"i +\",self.y, \"j +\", self.z, \"k\")\n",
    "\n",
    "class vector_operations:\n",
    "    def scaler_mul(scaler_value : int, v : vector) :\n",
    "        return vector(scaler_value*v1.x, scaler_value*v1.y, scaler_value*v1.z)\n",
    "        \n",
    "    def add(v1 : vector, v2 : vector):\n",
    "        return vector(v1.x+v2.x, v1.y+v2.y, v1.z+v2.z)\n",
    "        \n",
    "    def subtraction(v1 : vector, v2 : vector):\n",
    "        return vector(v1.x-v2.x, v1.y-v2.y, v1.z-v2.z)\n",
    "        \n",
    "    def dot_product(v1 : vector, v2 : vector):\n",
    "        return v1.x*v2.x + v1.y*v2.y + v1.z*v2.z\n",
    "        \n",
    "    def cross_product(v1 : vector, v2 : vector):\n",
    "        a = v1.x ; b = v1.y ; c = v1.z\n",
    "        x = v2.x ; y = v2.y ; z = v2.z\n",
    "        return vector(b*z-c*y, c*x-a*z, a*y-b*x)"
   ]
  },
  {
   "cell_type": "code",
   "execution_count": 17,
   "id": "0f9a5f7d-3cf2-4626-a9ca-4f3f74d29db4",
   "metadata": {},
   "outputs": [
    {
     "name": "stdout",
     "output_type": "stream",
     "text": [
      "3.7416573867739413\n",
      "6 i + 4 j + 6 k\n"
     ]
    }
   ],
   "source": [
    "r1 = vector(1,2,3)\n",
    "r2 = vector(5,2,3)\n",
    "print(r1.scaler_length())\n",
    "ada = vector_operations.add(r1,r2)\n",
    "ada.print_vector()"
   ]
  },
  {
   "cell_type": "code",
   "execution_count": null,
   "id": "26a8c746-02d1-4e46-b5b1-338b022c3616",
   "metadata": {},
   "outputs": [],
   "source": []
  },
  {
   "cell_type": "code",
   "execution_count": null,
   "id": "24b0361b-c8b3-48e4-b706-8a78d4339ddd",
   "metadata": {},
   "outputs": [],
   "source": [
    "statement = \"pepsi is an object at point (1,2) in a 2d plane. A force is applied on it resulting in acceleration. we cam write acceleration as 1\""
   ]
  }
 ],
 "metadata": {
  "kernelspec": {
   "display_name": "Python 3 (ipykernel)",
   "language": "python",
   "name": "python3"
  },
  "language_info": {
   "codemirror_mode": {
    "name": "ipython",
    "version": 3
   },
   "file_extension": ".py",
   "mimetype": "text/x-python",
   "name": "python",
   "nbconvert_exporter": "python",
   "pygments_lexer": "ipython3",
   "version": "3.11.5"
  }
 },
 "nbformat": 4,
 "nbformat_minor": 5
}
